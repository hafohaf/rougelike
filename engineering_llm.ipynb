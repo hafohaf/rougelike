{
  "cells": [
    {
      "cell_type": "code",
      "source": [
        "pip install -U datasets huggingface_hub fsspec # verhinden invalid patten error"
      ],
      "metadata": {
        "collapsed": true,
        "colab": {
          "base_uri": "https://localhost:8080/"
        },
        "id": "ap9jIDvlG6PX",
        "outputId": "9023aeac-40d2-4221-c19a-c23f05c5e0e3"
      },
      "id": "ap9jIDvlG6PX",
      "execution_count": 6,
      "outputs": [
        {
          "output_type": "stream",
          "name": "stdout",
          "text": [
            "Requirement already satisfied: datasets in /usr/local/lib/python3.11/dist-packages (3.6.0)\n",
            "Requirement already satisfied: huggingface_hub in /usr/local/lib/python3.11/dist-packages (0.33.0)\n",
            "Requirement already satisfied: fsspec in /usr/local/lib/python3.11/dist-packages (2025.3.0)\n",
            "Collecting fsspec\n",
            "  Using cached fsspec-2025.5.1-py3-none-any.whl.metadata (11 kB)\n",
            "Requirement already satisfied: filelock in /usr/local/lib/python3.11/dist-packages (from datasets) (3.18.0)\n",
            "Requirement already satisfied: numpy>=1.17 in /usr/local/lib/python3.11/dist-packages (from datasets) (2.0.2)\n",
            "Requirement already satisfied: pyarrow>=15.0.0 in /usr/local/lib/python3.11/dist-packages (from datasets) (18.1.0)\n",
            "Requirement already satisfied: dill<0.3.9,>=0.3.0 in /usr/local/lib/python3.11/dist-packages (from datasets) (0.3.7)\n",
            "Requirement already satisfied: pandas in /usr/local/lib/python3.11/dist-packages (from datasets) (2.2.2)\n",
            "Requirement already satisfied: requests>=2.32.2 in /usr/local/lib/python3.11/dist-packages (from datasets) (2.32.3)\n",
            "Requirement already satisfied: tqdm>=4.66.3 in /usr/local/lib/python3.11/dist-packages (from datasets) (4.67.1)\n",
            "Requirement already satisfied: xxhash in /usr/local/lib/python3.11/dist-packages (from datasets) (3.5.0)\n",
            "Requirement already satisfied: multiprocess<0.70.17 in /usr/local/lib/python3.11/dist-packages (from datasets) (0.70.15)\n",
            "Requirement already satisfied: packaging in /usr/local/lib/python3.11/dist-packages (from datasets) (24.2)\n",
            "Requirement already satisfied: pyyaml>=5.1 in /usr/local/lib/python3.11/dist-packages (from datasets) (6.0.2)\n",
            "Requirement already satisfied: typing-extensions>=3.7.4.3 in /usr/local/lib/python3.11/dist-packages (from huggingface_hub) (4.14.0)\n",
            "Requirement already satisfied: hf-xet<2.0.0,>=1.1.2 in /usr/local/lib/python3.11/dist-packages (from huggingface_hub) (1.1.3)\n",
            "Requirement already satisfied: aiohttp!=4.0.0a0,!=4.0.0a1 in /usr/local/lib/python3.11/dist-packages (from fsspec[http]<=2025.3.0,>=2023.1.0->datasets) (3.11.15)\n",
            "Requirement already satisfied: charset-normalizer<4,>=2 in /usr/local/lib/python3.11/dist-packages (from requests>=2.32.2->datasets) (3.4.2)\n",
            "Requirement already satisfied: idna<4,>=2.5 in /usr/local/lib/python3.11/dist-packages (from requests>=2.32.2->datasets) (3.10)\n",
            "Requirement already satisfied: urllib3<3,>=1.21.1 in /usr/local/lib/python3.11/dist-packages (from requests>=2.32.2->datasets) (2.4.0)\n",
            "Requirement already satisfied: certifi>=2017.4.17 in /usr/local/lib/python3.11/dist-packages (from requests>=2.32.2->datasets) (2025.6.15)\n",
            "Requirement already satisfied: python-dateutil>=2.8.2 in /usr/local/lib/python3.11/dist-packages (from pandas->datasets) (2.9.0.post0)\n",
            "Requirement already satisfied: pytz>=2020.1 in /usr/local/lib/python3.11/dist-packages (from pandas->datasets) (2025.2)\n",
            "Requirement already satisfied: tzdata>=2022.7 in /usr/local/lib/python3.11/dist-packages (from pandas->datasets) (2025.2)\n",
            "Requirement already satisfied: aiohappyeyeballs>=2.3.0 in /usr/local/lib/python3.11/dist-packages (from aiohttp!=4.0.0a0,!=4.0.0a1->fsspec[http]<=2025.3.0,>=2023.1.0->datasets) (2.6.1)\n",
            "Requirement already satisfied: aiosignal>=1.1.2 in /usr/local/lib/python3.11/dist-packages (from aiohttp!=4.0.0a0,!=4.0.0a1->fsspec[http]<=2025.3.0,>=2023.1.0->datasets) (1.3.2)\n",
            "Requirement already satisfied: attrs>=17.3.0 in /usr/local/lib/python3.11/dist-packages (from aiohttp!=4.0.0a0,!=4.0.0a1->fsspec[http]<=2025.3.0,>=2023.1.0->datasets) (25.3.0)\n",
            "Requirement already satisfied: frozenlist>=1.1.1 in /usr/local/lib/python3.11/dist-packages (from aiohttp!=4.0.0a0,!=4.0.0a1->fsspec[http]<=2025.3.0,>=2023.1.0->datasets) (1.7.0)\n",
            "Requirement already satisfied: multidict<7.0,>=4.5 in /usr/local/lib/python3.11/dist-packages (from aiohttp!=4.0.0a0,!=4.0.0a1->fsspec[http]<=2025.3.0,>=2023.1.0->datasets) (6.4.4)\n",
            "Requirement already satisfied: propcache>=0.2.0 in /usr/local/lib/python3.11/dist-packages (from aiohttp!=4.0.0a0,!=4.0.0a1->fsspec[http]<=2025.3.0,>=2023.1.0->datasets) (0.3.2)\n",
            "Requirement already satisfied: yarl<2.0,>=1.17.0 in /usr/local/lib/python3.11/dist-packages (from aiohttp!=4.0.0a0,!=4.0.0a1->fsspec[http]<=2025.3.0,>=2023.1.0->datasets) (1.20.1)\n",
            "Requirement already satisfied: six>=1.5 in /usr/local/lib/python3.11/dist-packages (from python-dateutil>=2.8.2->pandas->datasets) (1.17.0)\n"
          ]
        }
      ]
    },
    {
      "cell_type": "code",
      "execution_count": null,
      "id": "2edc9f12",
      "metadata": {
        "collapsed": true,
        "id": "2edc9f12"
      },
      "outputs": [],
      "source": [
        "from datasets import load_dataset\n",
        "\n",
        "#ds_reason1 = load_dataset(\"allenai/ai2_arc\", \"ARC-Challenge\") # reasoning dataset for multiple-choice questions\n",
        "#ds_reason2 = load_dataset(\"allenai/ai2_arc\", \"ARC-Easy\") # reasoning dataset for multiple-choice questions\n",
        "ds_summary = load_dataset(\"abisee/cnn_dailymail\", \"3.0.0\") # CNN/Daily Mail dataset for summarization tasks\n",
        "#ds_math = load_dataset(\"nivektk/math-augmented-dataset\") # Math augmented dataset for training and evaluation of math models"
      ]
    },
    {
      "cell_type": "code",
      "execution_count": null,
      "id": "0aebc11b",
      "metadata": {
        "id": "0aebc11b"
      },
      "outputs": [],
      "source": [
        "from datasets import concatenate_datasets, Dataset\n",
        "def split_dataset(ds, train_split, dev_split):\n",
        "    \"\"\"\n",
        "    Splits a dataset into train, dev, and test sets based on the provided ratios.\n",
        "    \"\"\"\n",
        "    n_total = len(ds)\n",
        "    n_train = int(n_total * train_split)\n",
        "    n_dev = int(n_total * dev_split)\n",
        "\n",
        "    train = ds.select(range(n_train))\n",
        "    dev = ds.select(range(n_train, n_train + n_dev))\n",
        "    test = ds.select(range(n_train + n_dev, n_total))\n",
        "\n",
        "    return train, dev, test\n",
        "datasets=ds_summary\n",
        "concat_datasets = concatenate_datasets([datasets['train'], datasets['test'], datasets['validation']]) # merge all labeled data\n",
        "train, dev, test = split_dataset(concat_datasets, 0.8, 0.1)\n",
        "print(\"SPLIT\")\n",
        "print(\"Train\", len(train))\n",
        "print(\"Dev\", len(dev))\n",
        "print(\"Test\", len(test))\n",
        "print(\"type ds\", type(datasets))\n",
        "print(\"type train\", type(train))\n"
      ]
    },
    {
      "cell_type": "code",
      "execution_count": null,
      "id": "9b6e4768",
      "metadata": {
        "id": "9b6e4768"
      },
      "outputs": [],
      "source": [
        "import torch, torchvision, transformers\n",
        "print(torch.__version__)\n",
        "print(torch.cuda.is_available())\n",
        "print(torchvision.__version__)\n",
        "print(transformers.__version__)\n",
        "\n",
        "# Load model directly\n",
        "from transformers import AutoTokenizer, AutoModelForCausalLM\n",
        "\n",
        "tokenizer = AutoTokenizer.from_pretrained(\"huggyllama/llama-7b\") #Choose a fitting model\n",
        "model = AutoModelForCausalLM.from_pretrained(\n",
        "    \"huggyllama/llama-7b\",\n",
        "    torch_dtype=torch.float16,\n",
        "    device_map=\"auto\",)\n",
        ""
      ]
    }
  ],
  "metadata": {
    "kernelspec": {
      "display_name": "Python 3",
      "name": "python3"
    },
    "language_info": {
      "codemirror_mode": {
        "name": "ipython",
        "version": 3
      },
      "file_extension": ".py",
      "mimetype": "text/x-python",
      "name": "python",
      "nbconvert_exporter": "python",
      "pygments_lexer": "ipython3",
      "version": "3.10.17"
    },
    "colab": {
      "provenance": []
    }
  },
  "nbformat": 4,
  "nbformat_minor": 5
}